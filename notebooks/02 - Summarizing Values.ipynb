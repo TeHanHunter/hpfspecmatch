{
 "cells": [
  {
   "cell_type": "code",
   "execution_count": 1,
   "metadata": {},
   "outputs": [
    {
     "data": {
      "text/plain": [
       "'/Users/gks/Dropbox/mypylib/notebooks/GIT'"
      ]
     },
     "execution_count": 1,
     "metadata": {},
     "output_type": "execute_result"
    }
   ],
   "source": [
    "from importlib import reload\n",
    "import os\n",
    "import glob2\n",
    "import pandas as pd\n",
    "import numpy as np\n",
    "import sys\n",
    "import glob\n",
    "#sys.path.pop(0)"
   ]
  },
  {
   "cell_type": "code",
   "execution_count": 2,
   "metadata": {},
   "outputs": [
    {
     "name": "stdout",
     "output_type": "stream",
     "text": [
      "AIRTOVAC (TRUE for HARPS, FALSE TRUE HPF):  False\n"
     ]
    }
   ],
   "source": [
    "import hpfspecmatch"
   ]
  },
  {
   "cell_type": "markdown",
   "metadata": {},
   "source": [
    "# Summarizing orders for a given HPFSpecMatch Run"
   ]
  },
  {
   "cell_type": "code",
   "execution_count": 3,
   "metadata": {},
   "outputs": [
    {
     "name": "stdout",
     "output_type": "stream",
     "text": [
      "Saved to ../output/20200730_toi1468/TOI-1468/TOI-1468_overview.csv\n",
      "Saved to ../output/20200730_toi1468/TOI-1468/TOI-1468_med.csv\n"
     ]
    }
   ],
   "source": [
    "files = sorted(glob.glob('../output/20200730_toi1468/TOI-1468/*/*.pkl'))\n",
    "df_orders, df_orders_summary = hpfspecmatch.summarize_values_from_orders(files,'TOI-1468')"
   ]
  },
  {
   "cell_type": "code",
   "execution_count": 4,
   "metadata": {},
   "outputs": [],
   "source": [
    "# This saves two .csv files"
   ]
  },
  {
   "cell_type": "code",
   "execution_count": 5,
   "metadata": {},
   "outputs": [
    {
     "data": {
      "text/html": [
       "<div>\n",
       "<style scoped>\n",
       "    .dataframe tbody tr th:only-of-type {\n",
       "        vertical-align: middle;\n",
       "    }\n",
       "\n",
       "    .dataframe tbody tr th {\n",
       "        vertical-align: top;\n",
       "    }\n",
       "\n",
       "    .dataframe thead th {\n",
       "        text-align: right;\n",
       "    }\n",
       "</style>\n",
       "<table border=\"1\" class=\"dataframe\">\n",
       "  <thead>\n",
       "    <tr style=\"text-align: right;\">\n",
       "      <th></th>\n",
       "      <th>teff</th>\n",
       "      <th>logg</th>\n",
       "      <th>feh</th>\n",
       "      <th>vsini</th>\n",
       "      <th>weights</th>\n",
       "      <th>filenames</th>\n",
       "    </tr>\n",
       "  </thead>\n",
       "  <tbody>\n",
       "    <tr>\n",
       "      <th>0</th>\n",
       "      <td>3399.570413</td>\n",
       "      <td>4.872674</td>\n",
       "      <td>-0.069859</td>\n",
       "      <td>1.492108</td>\n",
       "      <td>[0.40812392175339746, 0.329939442386762, 0.000...</td>\n",
       "      <td>../output/20200730_toi1468/TOI-1468/TOI-1468_4...</td>\n",
       "    </tr>\n",
       "    <tr>\n",
       "      <th>1</th>\n",
       "      <td>3377.500224</td>\n",
       "      <td>4.908124</td>\n",
       "      <td>-0.120432</td>\n",
       "      <td>1.031589</td>\n",
       "      <td>[0.30106323124397455, 0.3659015625871914, 0.05...</td>\n",
       "      <td>../output/20200730_toi1468/TOI-1468/TOI-1468_5...</td>\n",
       "    </tr>\n",
       "  </tbody>\n",
       "</table>\n",
       "</div>"
      ],
      "text/plain": [
       "          teff      logg       feh     vsini  \\\n",
       "0  3399.570413  4.872674 -0.069859  1.492108   \n",
       "1  3377.500224  4.908124 -0.120432  1.031589   \n",
       "\n",
       "                                             weights  \\\n",
       "0  [0.40812392175339746, 0.329939442386762, 0.000...   \n",
       "1  [0.30106323124397455, 0.3659015625871914, 0.05...   \n",
       "\n",
       "                                           filenames  \n",
       "0  ../output/20200730_toi1468/TOI-1468/TOI-1468_4...  \n",
       "1  ../output/20200730_toi1468/TOI-1468/TOI-1468_5...  "
      ]
     },
     "execution_count": 5,
     "metadata": {},
     "output_type": "execute_result"
    }
   ],
   "source": [
    "df_orders"
   ]
  },
  {
   "cell_type": "code",
   "execution_count": 6,
   "metadata": {},
   "outputs": [
    {
     "data": {
      "text/html": [
       "<div>\n",
       "<style scoped>\n",
       "    .dataframe tbody tr th:only-of-type {\n",
       "        vertical-align: middle;\n",
       "    }\n",
       "\n",
       "    .dataframe tbody tr th {\n",
       "        vertical-align: top;\n",
       "    }\n",
       "\n",
       "    .dataframe thead th {\n",
       "        text-align: right;\n",
       "    }\n",
       "</style>\n",
       "<table border=\"1\" class=\"dataframe\">\n",
       "  <thead>\n",
       "    <tr style=\"text-align: right;\">\n",
       "      <th></th>\n",
       "      <th>parameters</th>\n",
       "      <th>median</th>\n",
       "      <th>std</th>\n",
       "    </tr>\n",
       "  </thead>\n",
       "  <tbody>\n",
       "    <tr>\n",
       "      <th>0</th>\n",
       "      <td>teff</td>\n",
       "      <td>3388.535319</td>\n",
       "      <td>15.605981</td>\n",
       "    </tr>\n",
       "    <tr>\n",
       "      <th>1</th>\n",
       "      <td>logg</td>\n",
       "      <td>4.890399</td>\n",
       "      <td>0.025067</td>\n",
       "    </tr>\n",
       "    <tr>\n",
       "      <th>2</th>\n",
       "      <td>feh</td>\n",
       "      <td>-0.095145</td>\n",
       "      <td>0.035761</td>\n",
       "    </tr>\n",
       "    <tr>\n",
       "      <th>3</th>\n",
       "      <td>vsini</td>\n",
       "      <td>1.261848</td>\n",
       "      <td>0.325636</td>\n",
       "    </tr>\n",
       "  </tbody>\n",
       "</table>\n",
       "</div>"
      ],
      "text/plain": [
       "  parameters       median        std\n",
       "0       teff  3388.535319  15.605981\n",
       "1       logg     4.890399   0.025067\n",
       "2        feh    -0.095145   0.035761\n",
       "3      vsini     1.261848   0.325636"
      ]
     },
     "execution_count": 6,
     "metadata": {},
     "output_type": "execute_result"
    }
   ],
   "source": [
    "df_orders_summary"
   ]
  },
  {
   "cell_type": "code",
   "execution_count": null,
   "metadata": {},
   "outputs": [],
   "source": []
  }
 ],
 "metadata": {
  "kernelspec": {
   "display_name": "Python 3",
   "language": "python",
   "name": "python3"
  },
  "language_info": {
   "codemirror_mode": {
    "name": "ipython",
    "version": 3
   },
   "file_extension": ".py",
   "mimetype": "text/x-python",
   "name": "python",
   "nbconvert_exporter": "python",
   "pygments_lexer": "ipython3",
   "version": "3.6.9"
  }
 },
 "nbformat": 4,
 "nbformat_minor": 4
}
